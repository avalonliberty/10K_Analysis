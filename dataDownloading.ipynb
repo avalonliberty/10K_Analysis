{
 "cells": [
  {
   "cell_type": "code",
   "execution_count": 85,
   "metadata": {},
   "outputs": [],
   "source": [
    "import pandas as pd\n",
    "import wget\n",
    "import requests\n",
    "import os\n",
    "from bs4 import BeautifulSoup"
   ]
  },
  {
   "cell_type": "markdown",
   "metadata": {},
   "source": [
    "## Reading in the file"
   ]
  },
  {
   "cell_type": "code",
   "execution_count": 33,
   "metadata": {},
   "outputs": [],
   "source": [
    "mainFile = pd.read_csv(\"CIK_File.csv\")\n",
    "mainFile[\"CIK\"] = mainFile[\"CIK\"].astype(str).apply(lambda x : x.zfill(10))\n",
    "companyCIK = list(set(mainFile[\"CIK\"]))"
   ]
  },
  {
   "cell_type": "markdown",
   "metadata": {},
   "source": [
    "## Retrieving information from SEC webpages"
   ]
  },
  {
   "cell_type": "code",
   "execution_count": 63,
   "metadata": {},
   "outputs": [],
   "source": [
    "corpInfo = {}\n",
    "for CIK in companyCIK:\n",
    "    SEC_page = \"https://www.sec.gov/cgi-bin/browse-edgar?action=getcompany&CIK=\" + \\\n",
    "                CIK + \"&type=10-k&dateb=&owner=exclude&count=40\"\n",
    "    searchYear = list(mainFile[mainFile[\"CIK\"] == CIK][\"FYEAR\"])\n",
    "    read_SEC_page = requests.get(SEC_page)\n",
    "    SEC_parsed_page = BeautifulSoup(read_SEC_page.text, \"html.parser\")\n",
    "    SEC_table = SEC_parsed_page.find(\"table\", {\"class\" : \"tableFile2\"})\n",
    "    SEC_table_schema = []\n",
    "    for SEC_row in SEC_table.find_all(\"tr\"):\n",
    "        if SEC_row.find_all(\"td\"):\n",
    "            holder = {}\n",
    "            SEC_col = SEC_row.find_all(\"td\")\n",
    "            holder[\"fileType\"] = SEC_col[0].text\n",
    "            holder[\"documentsLinks\"] = \"https://www.sec.gov\" + SEC_col[1].find(\"a\", {\"id\" : \"documentsbutton\"}, href = True)[\"href\"]\n",
    "            holder[\"issueDate\"] = SEC_col[3].text\n",
    "            realYear = int(holder[\"issueDate\"].split(\"-\")[0]) - 1\n",
    "            if realYear in searchYear:\n",
    "                holder[\"realYear\"] = realYear\n",
    "                SEC_table_schema.append(holder)\n",
    "    corpInfo[CIK] = SEC_table_schema"
   ]
  },
  {
   "cell_type": "markdown",
   "metadata": {},
   "source": [
    "## Starting download process"
   ]
  },
  {
   "cell_type": "code",
   "execution_count": 96,
   "metadata": {},
   "outputs": [],
   "source": [
    "for CIK in companyCIK:\n",
    "    os.mkdir(\"tenK/\" + CIK)\n",
    "    for info_list in corpInfo[CIK]:\n",
    "        if info_list[\"fileType\"] == \"10-K\":\n",
    "            ten_k_page = requests.get(info_list[\"documentsLinks\"])\n",
    "            parsed_ten_k_page = BeautifulSoup(ten_k_page.text, \"html.parser\")\n",
    "            ten_k_rows = parsed_ten_k_page.find(\"table\", {\"summary\" : \"Document Format Files\"}).findAll(\"tr\")\n",
    "            for row in ten_k_rows:\n",
    "                if row.find_all(\"td\"):\n",
    "                    if row.find_all(\"td\")[1].text == \"Complete submission text file\":\n",
    "                        ten_k_Link = \"https://www.sec.gov/\" + row.find_all(\"td\")[2].find(href = True)[\"href\"]\n",
    "            extension = ten_k_Link.split(\".\")[-1]\n",
    "            downloadPath = \"tenK/\" + CIK + \"/\" + CIK + \"_\" + str(info_list[\"realYear\"]) + \".\" + extension\n",
    "            wget.download(ten_k_Link, downloadPath)"
   ]
  }
 ],
 "metadata": {
  "kernelspec": {
   "display_name": "Python 3",
   "language": "python",
   "name": "python3"
  },
  "language_info": {
   "codemirror_mode": {
    "name": "ipython",
    "version": 3
   },
   "file_extension": ".py",
   "mimetype": "text/x-python",
   "name": "python",
   "nbconvert_exporter": "python",
   "pygments_lexer": "ipython3",
   "version": "3.6.7"
  }
 },
 "nbformat": 4,
 "nbformat_minor": 2
}
