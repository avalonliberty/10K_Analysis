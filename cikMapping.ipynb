{
 "cells": [
  {
   "cell_type": "code",
   "execution_count": 6,
   "metadata": {},
   "outputs": [],
   "source": [
    "import pandas as pd\n",
    "from fuzzywuzzy import fuzz"
   ]
  },
  {
   "cell_type": "code",
   "execution_count": 7,
   "metadata": {},
   "outputs": [],
   "source": [
    "gvkeyToCik = pd.read_csv(\"gvkey_cik.csv\")\n",
    "cusipToCik = pd.read_csv(\"cusip8_cik.csv\")\n",
    "gvkeyToCusip = pd.read_csv(\"gvkey_cusip.csv\", encoding = \"latin1\")\n",
    "mainTable = pd.read_csv(\"mainTable.csv\")"
   ]
  },
  {
   "cell_type": "markdown",
   "metadata": {},
   "source": [
    "## Cleaning data"
   ]
  },
  {
   "cell_type": "code",
   "execution_count": 9,
   "metadata": {},
   "outputs": [],
   "source": [
    "gvkeyToCik[\"CIK Number\"] = gvkeyToCik[\"CIK Number\"].apply(lambda x: str(x).zfill(10))\n",
    "gvkeyToCik.rename(columns = {\"Compustat's Global Company Key - GVKEY\" : \"Gvkey\", \n",
    "                             \"CIK Number\" : \"CIK\",\n",
    "                             \"Company Name in SEC Filings - Header\" : \"companyName\"}, inplace = True)\n",
    "gvkeyToCik[\"Gvkey\"] = gvkeyToCik[\"Gvkey\"].astype(str)\n",
    "gvkeyToCik_By_Name = gvkeyToCik.loc[:, [\"companyName\", \"CIK\"]]\n",
    "gvkeyToCik = gvkeyToCik.loc[:, [\"Gvkey\", \"CIK\"]]\n",
    "\n",
    "# Assigning 0 to the row whose GVKEY value is NAN\n",
    "mainTable.drop([dropName for dropName in mainTable.columns if \"Unnamed\" in dropName], axis = 1, inplace = True)\n",
    "mainTable.loc[mainTable[\"GVKEY\"].isna(), \"GVKEY\"] = 0\n",
    "mainTable.GVKEY = mainTable.GVKEY.astype(int).astype(str)\n",
    "mainTable.rename(columns = {\"GVKEY\" : \"Gvkey\", \"Institution Name \" : \"companyName\"}, inplace = True)\n",
    "\n",
    "gvkeyToCusip.rename(columns = {\"gvkey\" : \"Gvkey\"}, inplace = True)\n",
    "gvkeyToCusip = gvkeyToCusip.loc[:, [\"Gvkey\", \"cusip8\"]]\n",
    "gvkeyToCusip.dropna(inplace = True)\n",
    "gvkeyToCusip[\"Gvkey\"] = gvkeyToCusip[\"Gvkey\"].astype(int).astype(str)\n",
    "\n",
    "cusipToCik.rename(columns = {\"SEC CIK Number\" : \"CIK\",\n",
    "                             \"8-Digit CUSIP Number as Appears in SEC Filings of CIK Entity\" : \"cusip8\",\n",
    "                             \"Company Name\" : \"companyName\"},\n",
    "                 inplace = True)\n",
    "cusipToCik[\"CIK\"] = cusipToCik[\"CIK\"].astype(int).astype(str).apply(lambda x : x.zfill(10))\n",
    "cusipToCik[\"cusip8\"] = cusipToCik[\"cusip8\"].astype(str)\n",
    "cusipToCik_By_Name = cusipToCik.loc[:, [\"companyName\", \"CIK\"]]\n",
    "cusipToCik = cusipToCik.loc[:, [\"cusip8\", \"CIK\"]]"
   ]
  },
  {
   "cell_type": "markdown",
   "metadata": {},
   "source": [
    "## merging files"
   ]
  },
  {
   "cell_type": "code",
   "execution_count": 13,
   "metadata": {},
   "outputs": [],
   "source": [
    "gvkey_CIK_matching_table = mainTable.merge(gvkeyToCik, how = \"left\", left_on = \"Gvkey\", right_on = \"Gvkey\")\n",
    "remaining_table = gvkey_CIK_matching_table.loc[gvkey_CIK_matching_table.CIK.isna(), :]\n",
    "gvkey_CIK_matching_table = gvkey_CIK_matching_table[~gvkey_CIK_matching_table.CIK.isna()]\n",
    "remaining_with_cusip = remaining_table.merge(gvkeyToCusip, how = \"left\", left_on = \"Gvkey\", right_on = \"Gvkey\")\n",
    "remaining_with_cusip.drop(\"CIK\", axis = 1, inplace = True)\n",
    "remaining_with_CIK = remaining_with_cusip.merge(cusipToCik, how = \"left\", left_on = \"cusip8\", right_on = \"cusip8\")"
   ]
  },
  {
   "cell_type": "markdown",
   "metadata": {},
   "source": [
    "## fuzzy mataching for the unmatched CIK"
   ]
  },
  {
   "cell_type": "code",
   "execution_count": 12,
   "metadata": {},
   "outputs": [],
   "source": [
    "# mapping from gvkeyToCik_By_Name to mainTable\n",
    "for index, word in enumerate(remaining_with_CIK[\"companyName\"]):\n",
    "    temp = [fuzz.partial_ratio(word, matchingword) for matchingword in gvkeyToCik_By_Name[\"companyName\"]]\n",
    "    if max(temp) > 70:\n",
    "        Max_Prob_Index = temp.index(max(temp))\n",
    "        remaining_with_CIK.iloc[index, -1] = gvkeyToCik_By_Name[\"CIK\"][Max_Prob_Index]\n",
    "\n",
    "        \n",
    "# mapping from cusipToCik_By_Name to mainTable\n",
    "for index, word in enumerate(remaining_with_CIK[\"companyName\"]):\n",
    "    temp = [fuzz.partial_ratio(word, matchingword) for matchingword in cusipToCik_By_Name[\"companyName\"]]\n",
    "    if max(temp) > 70:\n",
    "        Max_Prob_Index = temp.index(max(temp))\n",
    "        remaining_with_CIK.iloc[index, -1] = cusipToCik_By_Name[\"CIK\"][Max_Prob_Index]"
   ]
  },
  {
   "cell_type": "markdown",
   "metadata": {},
   "source": [
    "## Output files"
   ]
  },
  {
   "cell_type": "code",
   "execution_count": 32,
   "metadata": {},
   "outputs": [],
   "source": [
    "remaining_with_CIK.drop(\"cusip8\", axis = 1, inplace = True)\n",
    "finalTable = pd.concat([gvkey_CIK_matching_table, remaining_with_CIK])\n",
    "finalTable.to_csv(\"CIK_File.csv\", index = False)"
   ]
  }
 ],
 "metadata": {
  "kernelspec": {
   "display_name": "Python 3",
   "language": "python",
   "name": "python3"
  },
  "language_info": {
   "codemirror_mode": {
    "name": "ipython",
    "version": 3
   },
   "file_extension": ".py",
   "mimetype": "text/x-python",
   "name": "python",
   "nbconvert_exporter": "python",
   "pygments_lexer": "ipython3",
   "version": "3.6.7"
  }
 },
 "nbformat": 4,
 "nbformat_minor": 2
}
